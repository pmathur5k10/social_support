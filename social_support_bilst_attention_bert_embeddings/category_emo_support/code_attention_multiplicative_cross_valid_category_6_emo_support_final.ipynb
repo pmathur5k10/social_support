{
 "cells": [
  {
   "cell_type": "code",
   "execution_count": 1,
   "metadata": {},
   "outputs": [
    {
     "name": "stderr",
     "output_type": "stream",
     "text": [
      "Using TensorFlow backend.\n"
     ]
    }
   ],
   "source": [
    "import numpy as np\n",
    "import pandas as pd\n",
    "from bert_serving.client import BertClient\n",
    "from keras.utils import np_utils\n",
    "from keras.models import Sequential\n",
    "from keras.optimizers import Adam,SGD\n",
    "from keras.layers import Dense, Input, Dropout, LSTM, Activation, Convolution1D, MaxPooling1D, Flatten, BatchNormalization\n",
    "from keras.callbacks import EarlyStopping\n",
    "from keras.callbacks import ModelCheckpoint\n",
    "from keras.callbacks import Callback\n",
    "from sklearn.metrics import confusion_matrix, f1_score, precision_score, recall_score\n",
    "import matplotlib.pyplot as plt\n",
    "%matplotlib inline"
   ]
  },
  {
   "cell_type": "code",
   "execution_count": 2,
   "metadata": {},
   "outputs": [],
   "source": [
    "train = pd.read_csv('./data/training data/labeled_training_set.csv')\n",
    "test = pd.read_csv('./data/test data/unlabeled_test_set.csv')"
   ]
  },
  {
   "cell_type": "code",
   "execution_count": 41,
   "metadata": {},
   "outputs": [
    {
     "data": {
      "text/html": [
       "<div>\n",
       "<style scoped>\n",
       "    .dataframe tbody tr th:only-of-type {\n",
       "        vertical-align: middle;\n",
       "    }\n",
       "\n",
       "    .dataframe tbody tr th {\n",
       "        vertical-align: top;\n",
       "    }\n",
       "\n",
       "    .dataframe thead th {\n",
       "        text-align: right;\n",
       "    }\n",
       "</style>\n",
       "<table border=\"1\" class=\"dataframe\">\n",
       "  <thead>\n",
       "    <tr style=\"text-align: right;\">\n",
       "      <th></th>\n",
       "      <th>sentenceid</th>\n",
       "      <th>author</th>\n",
       "      <th>nchar</th>\n",
       "      <th>created_utc</th>\n",
       "      <th>score</th>\n",
       "      <th>subreddit</th>\n",
       "      <th>label</th>\n",
       "      <th>full_text</th>\n",
       "      <th>wordcount</th>\n",
       "      <th>id</th>\n",
       "      <th>Emotional_disclosure</th>\n",
       "      <th>Information_disclosure</th>\n",
       "      <th>Support</th>\n",
       "      <th>General_support</th>\n",
       "      <th>Info_support</th>\n",
       "      <th>Emo_support</th>\n",
       "    </tr>\n",
       "  </thead>\n",
       "  <tbody>\n",
       "    <tr>\n",
       "      <th>0</th>\n",
       "      <td>36.0</td>\n",
       "      <td>LeniaLilac</td>\n",
       "      <td>135</td>\n",
       "      <td>1532518450</td>\n",
       "      <td>81</td>\n",
       "      <td>offmychest</td>\n",
       "      <td>husband boyfriend</td>\n",
       "      <td>Get two nice notebooks and write it down for e...</td>\n",
       "      <td>12</td>\n",
       "      <td>91px39</td>\n",
       "      <td>0</td>\n",
       "      <td>0</td>\n",
       "      <td>0</td>\n",
       "      <td>0</td>\n",
       "      <td>0</td>\n",
       "      <td>0</td>\n",
       "    </tr>\n",
       "    <tr>\n",
       "      <th>1</th>\n",
       "      <td>47.0</td>\n",
       "      <td>call-me-mama-t</td>\n",
       "      <td>115</td>\n",
       "      <td>1533351628</td>\n",
       "      <td>59</td>\n",
       "      <td>offmychest</td>\n",
       "      <td>husband boyfriend</td>\n",
       "      <td>I&lt;U+0092&gt;m sobbing reading this thread!</td>\n",
       "      <td>5</td>\n",
       "      <td>91px39</td>\n",
       "      <td>1</td>\n",
       "      <td>1</td>\n",
       "      <td>0</td>\n",
       "      <td>0</td>\n",
       "      <td>0</td>\n",
       "      <td>0</td>\n",
       "    </tr>\n",
       "    <tr>\n",
       "      <th>2</th>\n",
       "      <td>57.0</td>\n",
       "      <td>BluebirdOnAHill</td>\n",
       "      <td>46</td>\n",
       "      <td>1532513532</td>\n",
       "      <td>35</td>\n",
       "      <td>offmychest</td>\n",
       "      <td>husband boyfriend</td>\n",
       "      <td>Hope you have a nice day</td>\n",
       "      <td>6</td>\n",
       "      <td>91px39</td>\n",
       "      <td>0</td>\n",
       "      <td>0</td>\n",
       "      <td>1</td>\n",
       "      <td>1</td>\n",
       "      <td>0</td>\n",
       "      <td>0</td>\n",
       "    </tr>\n",
       "    <tr>\n",
       "      <th>3</th>\n",
       "      <td>58.0</td>\n",
       "      <td>MenudoMenudo</td>\n",
       "      <td>157</td>\n",
       "      <td>1532519594</td>\n",
       "      <td>34</td>\n",
       "      <td>offmychest</td>\n",
       "      <td>husband boyfriend</td>\n",
       "      <td>My wife came in when I was around half way thr...</td>\n",
       "      <td>33</td>\n",
       "      <td>91px39</td>\n",
       "      <td>1</td>\n",
       "      <td>1</td>\n",
       "      <td>0</td>\n",
       "      <td>0</td>\n",
       "      <td>0</td>\n",
       "      <td>0</td>\n",
       "    </tr>\n",
       "    <tr>\n",
       "      <th>4</th>\n",
       "      <td>74.0</td>\n",
       "      <td>modistabeat</td>\n",
       "      <td>191</td>\n",
       "      <td>1533722813</td>\n",
       "      <td>30</td>\n",
       "      <td>offmychest</td>\n",
       "      <td>husband boyfriend</td>\n",
       "      <td>I am crying a lot of happy tears right now.</td>\n",
       "      <td>10</td>\n",
       "      <td>91px39</td>\n",
       "      <td>1</td>\n",
       "      <td>0</td>\n",
       "      <td>0</td>\n",
       "      <td>0</td>\n",
       "      <td>0</td>\n",
       "      <td>0</td>\n",
       "    </tr>\n",
       "  </tbody>\n",
       "</table>\n",
       "</div>"
      ],
      "text/plain": [
       "   sentenceid           author  nchar  created_utc  score   subreddit  \\\n",
       "0        36.0       LeniaLilac    135   1532518450     81  offmychest   \n",
       "1        47.0   call-me-mama-t    115   1533351628     59  offmychest   \n",
       "2        57.0  BluebirdOnAHill     46   1532513532     35  offmychest   \n",
       "3        58.0     MenudoMenudo    157   1532519594     34  offmychest   \n",
       "4        74.0      modistabeat    191   1533722813     30  offmychest   \n",
       "\n",
       "               label                                          full_text  \\\n",
       "0  husband boyfriend  Get two nice notebooks and write it down for e...   \n",
       "1  husband boyfriend            I<U+0092>m sobbing reading this thread!   \n",
       "2  husband boyfriend                           Hope you have a nice day   \n",
       "3  husband boyfriend  My wife came in when I was around half way thr...   \n",
       "4  husband boyfriend        I am crying a lot of happy tears right now.   \n",
       "\n",
       "   wordcount      id  Emotional_disclosure  Information_disclosure  Support  \\\n",
       "0         12  91px39                     0                       0        0   \n",
       "1          5  91px39                     1                       1        0   \n",
       "2          6  91px39                     0                       0        1   \n",
       "3         33  91px39                     1                       1        0   \n",
       "4         10  91px39                     1                       0        0   \n",
       "\n",
       "   General_support  Info_support  Emo_support  \n",
       "0                0             0            0  \n",
       "1                0             0            0  \n",
       "2                1             0            0  \n",
       "3                0             0            0  \n",
       "4                0             0            0  "
      ]
     },
     "execution_count": 41,
     "metadata": {},
     "output_type": "execute_result"
    }
   ],
   "source": [
    "train.head()"
   ]
  },
  {
   "cell_type": "code",
   "execution_count": 42,
   "metadata": {},
   "outputs": [
    {
     "data": {
      "text/html": [
       "<div>\n",
       "<style scoped>\n",
       "    .dataframe tbody tr th:only-of-type {\n",
       "        vertical-align: middle;\n",
       "    }\n",
       "\n",
       "    .dataframe tbody tr th {\n",
       "        vertical-align: top;\n",
       "    }\n",
       "\n",
       "    .dataframe thead th {\n",
       "        text-align: right;\n",
       "    }\n",
       "</style>\n",
       "<table border=\"1\" class=\"dataframe\">\n",
       "  <thead>\n",
       "    <tr style=\"text-align: right;\">\n",
       "      <th></th>\n",
       "      <th>sentenceid</th>\n",
       "      <th>author</th>\n",
       "      <th>nchar</th>\n",
       "      <th>created_utc</th>\n",
       "      <th>score</th>\n",
       "      <th>subreddit</th>\n",
       "      <th>label</th>\n",
       "      <th>full_text</th>\n",
       "      <th>wordcount</th>\n",
       "      <th>id</th>\n",
       "    </tr>\n",
       "  </thead>\n",
       "  <tbody>\n",
       "    <tr>\n",
       "      <th>0</th>\n",
       "      <td>66026</td>\n",
       "      <td>blargghonkk</td>\n",
       "      <td>357</td>\n",
       "      <td>1491057453</td>\n",
       "      <td>2</td>\n",
       "      <td>offmychest</td>\n",
       "      <td>husband wife</td>\n",
       "      <td>Wouldn't want the baby to fall apart on the hi...</td>\n",
       "      <td>10</td>\n",
       "      <td>62hoet</td>\n",
       "    </tr>\n",
       "    <tr>\n",
       "      <th>1</th>\n",
       "      <td>96956</td>\n",
       "      <td>Spikekuji</td>\n",
       "      <td>100</td>\n",
       "      <td>1531173984</td>\n",
       "      <td>1</td>\n",
       "      <td>offmychest</td>\n",
       "      <td>wife</td>\n",
       "      <td>You&lt;U+0092&gt;d be in good company there.</td>\n",
       "      <td>6</td>\n",
       "      <td>8xa92s</td>\n",
       "    </tr>\n",
       "    <tr>\n",
       "      <th>2</th>\n",
       "      <td>238262</td>\n",
       "      <td>maximize123</td>\n",
       "      <td>279</td>\n",
       "      <td>1501968080</td>\n",
       "      <td>1</td>\n",
       "      <td>CasualConversation</td>\n",
       "      <td>husband</td>\n",
       "      <td>What a cliche, but as a 20 year old in college...</td>\n",
       "      <td>22</td>\n",
       "      <td>6ru5kk</td>\n",
       "    </tr>\n",
       "    <tr>\n",
       "      <th>3</th>\n",
       "      <td>381299</td>\n",
       "      <td>kilawl</td>\n",
       "      <td>2353</td>\n",
       "      <td>1507209034</td>\n",
       "      <td>1</td>\n",
       "      <td>CasualConversation</td>\n",
       "      <td>boyfriend</td>\n",
       "      <td>Well, when I thought I lost my best friend for...</td>\n",
       "      <td>14</td>\n",
       "      <td>74alb3</td>\n",
       "    </tr>\n",
       "    <tr>\n",
       "      <th>4</th>\n",
       "      <td>30238</td>\n",
       "      <td>Munkyed</td>\n",
       "      <td>914</td>\n",
       "      <td>1533323463</td>\n",
       "      <td>3</td>\n",
       "      <td>offmychest</td>\n",
       "      <td>husband wife</td>\n",
       "      <td>I love my brother and all twelve of his kids.</td>\n",
       "      <td>10</td>\n",
       "      <td>944icl</td>\n",
       "    </tr>\n",
       "  </tbody>\n",
       "</table>\n",
       "</div>"
      ],
      "text/plain": [
       "   sentenceid       author  nchar  created_utc  score           subreddit  \\\n",
       "0       66026  blargghonkk    357   1491057453      2          offmychest   \n",
       "1       96956    Spikekuji    100   1531173984      1          offmychest   \n",
       "2      238262  maximize123    279   1501968080      1  CasualConversation   \n",
       "3      381299       kilawl   2353   1507209034      1  CasualConversation   \n",
       "4       30238      Munkyed    914   1533323463      3          offmychest   \n",
       "\n",
       "          label                                          full_text  wordcount  \\\n",
       "0  husband wife  Wouldn't want the baby to fall apart on the hi...         10   \n",
       "1          wife             You<U+0092>d be in good company there.          6   \n",
       "2       husband  What a cliche, but as a 20 year old in college...         22   \n",
       "3     boyfriend  Well, when I thought I lost my best friend for...         14   \n",
       "4  husband wife      I love my brother and all twelve of his kids.         10   \n",
       "\n",
       "       id  \n",
       "0  62hoet  \n",
       "1  8xa92s  \n",
       "2  6ru5kk  \n",
       "3  74alb3  \n",
       "4  944icl  "
      ]
     },
     "execution_count": 42,
     "metadata": {},
     "output_type": "execute_result"
    }
   ],
   "source": [
    "test.head()"
   ]
  },
  {
   "cell_type": "code",
   "execution_count": 34,
   "metadata": {},
   "outputs": [
    {
     "data": {
      "text/plain": [
       "array([0, 1])"
      ]
     },
     "execution_count": 34,
     "metadata": {},
     "output_type": "execute_result"
    }
   ],
   "source": [
    "np.unique(train['Emotional_disclosure'])"
   ]
  },
  {
   "cell_type": "code",
   "execution_count": 35,
   "metadata": {},
   "outputs": [
    {
     "data": {
      "text/html": [
       "<div>\n",
       "<style scoped>\n",
       "    .dataframe tbody tr th:only-of-type {\n",
       "        vertical-align: middle;\n",
       "    }\n",
       "\n",
       "    .dataframe tbody tr th {\n",
       "        vertical-align: top;\n",
       "    }\n",
       "\n",
       "    .dataframe thead th {\n",
       "        text-align: right;\n",
       "    }\n",
       "</style>\n",
       "<table border=\"1\" class=\"dataframe\">\n",
       "  <thead>\n",
       "    <tr style=\"text-align: right;\">\n",
       "      <th></th>\n",
       "      <th>sentenceid</th>\n",
       "      <th>author</th>\n",
       "      <th>nchar</th>\n",
       "      <th>created_utc</th>\n",
       "      <th>score</th>\n",
       "      <th>subreddit</th>\n",
       "      <th>label</th>\n",
       "      <th>full_text</th>\n",
       "      <th>wordcount</th>\n",
       "      <th>id</th>\n",
       "      <th>Emotional_disclosure</th>\n",
       "      <th>Information_disclosure</th>\n",
       "      <th>Support</th>\n",
       "      <th>General_support</th>\n",
       "      <th>Info_support</th>\n",
       "      <th>Emo_support</th>\n",
       "    </tr>\n",
       "  </thead>\n",
       "  <tbody>\n",
       "    <tr>\n",
       "      <th>0</th>\n",
       "      <td>36.0</td>\n",
       "      <td>LeniaLilac</td>\n",
       "      <td>135</td>\n",
       "      <td>1532518450</td>\n",
       "      <td>81</td>\n",
       "      <td>offmychest</td>\n",
       "      <td>husband boyfriend</td>\n",
       "      <td>Get two nice notebooks and write it down for e...</td>\n",
       "      <td>12</td>\n",
       "      <td>91px39</td>\n",
       "      <td>0</td>\n",
       "      <td>0</td>\n",
       "      <td>0</td>\n",
       "      <td>0</td>\n",
       "      <td>0</td>\n",
       "      <td>0</td>\n",
       "    </tr>\n",
       "    <tr>\n",
       "      <th>1</th>\n",
       "      <td>47.0</td>\n",
       "      <td>call-me-mama-t</td>\n",
       "      <td>115</td>\n",
       "      <td>1533351628</td>\n",
       "      <td>59</td>\n",
       "      <td>offmychest</td>\n",
       "      <td>husband boyfriend</td>\n",
       "      <td>I&lt;U+0092&gt;m sobbing reading this thread!</td>\n",
       "      <td>5</td>\n",
       "      <td>91px39</td>\n",
       "      <td>1</td>\n",
       "      <td>1</td>\n",
       "      <td>0</td>\n",
       "      <td>0</td>\n",
       "      <td>0</td>\n",
       "      <td>0</td>\n",
       "    </tr>\n",
       "    <tr>\n",
       "      <th>2</th>\n",
       "      <td>57.0</td>\n",
       "      <td>BluebirdOnAHill</td>\n",
       "      <td>46</td>\n",
       "      <td>1532513532</td>\n",
       "      <td>35</td>\n",
       "      <td>offmychest</td>\n",
       "      <td>husband boyfriend</td>\n",
       "      <td>Hope you have a nice day</td>\n",
       "      <td>6</td>\n",
       "      <td>91px39</td>\n",
       "      <td>0</td>\n",
       "      <td>0</td>\n",
       "      <td>1</td>\n",
       "      <td>1</td>\n",
       "      <td>0</td>\n",
       "      <td>0</td>\n",
       "    </tr>\n",
       "    <tr>\n",
       "      <th>3</th>\n",
       "      <td>58.0</td>\n",
       "      <td>MenudoMenudo</td>\n",
       "      <td>157</td>\n",
       "      <td>1532519594</td>\n",
       "      <td>34</td>\n",
       "      <td>offmychest</td>\n",
       "      <td>husband boyfriend</td>\n",
       "      <td>My wife came in when I was around half way thr...</td>\n",
       "      <td>33</td>\n",
       "      <td>91px39</td>\n",
       "      <td>1</td>\n",
       "      <td>1</td>\n",
       "      <td>0</td>\n",
       "      <td>0</td>\n",
       "      <td>0</td>\n",
       "      <td>0</td>\n",
       "    </tr>\n",
       "    <tr>\n",
       "      <th>4</th>\n",
       "      <td>74.0</td>\n",
       "      <td>modistabeat</td>\n",
       "      <td>191</td>\n",
       "      <td>1533722813</td>\n",
       "      <td>30</td>\n",
       "      <td>offmychest</td>\n",
       "      <td>husband boyfriend</td>\n",
       "      <td>I am crying a lot of happy tears right now.</td>\n",
       "      <td>10</td>\n",
       "      <td>91px39</td>\n",
       "      <td>1</td>\n",
       "      <td>0</td>\n",
       "      <td>0</td>\n",
       "      <td>0</td>\n",
       "      <td>0</td>\n",
       "      <td>0</td>\n",
       "    </tr>\n",
       "  </tbody>\n",
       "</table>\n",
       "</div>"
      ],
      "text/plain": [
       "   sentenceid           author  nchar  created_utc  score   subreddit  \\\n",
       "0        36.0       LeniaLilac    135   1532518450     81  offmychest   \n",
       "1        47.0   call-me-mama-t    115   1533351628     59  offmychest   \n",
       "2        57.0  BluebirdOnAHill     46   1532513532     35  offmychest   \n",
       "3        58.0     MenudoMenudo    157   1532519594     34  offmychest   \n",
       "4        74.0      modistabeat    191   1533722813     30  offmychest   \n",
       "\n",
       "               label                                          full_text  \\\n",
       "0  husband boyfriend  Get two nice notebooks and write it down for e...   \n",
       "1  husband boyfriend            I<U+0092>m sobbing reading this thread!   \n",
       "2  husband boyfriend                           Hope you have a nice day   \n",
       "3  husband boyfriend  My wife came in when I was around half way thr...   \n",
       "4  husband boyfriend        I am crying a lot of happy tears right now.   \n",
       "\n",
       "   wordcount      id  Emotional_disclosure  Information_disclosure  Support  \\\n",
       "0         12  91px39                     0                       0        0   \n",
       "1          5  91px39                     1                       1        0   \n",
       "2          6  91px39                     0                       0        1   \n",
       "3         33  91px39                     1                       1        0   \n",
       "4         10  91px39                     1                       0        0   \n",
       "\n",
       "   General_support  Info_support  Emo_support  \n",
       "0                0             0            0  \n",
       "1                0             0            0  \n",
       "2                1             0            0  \n",
       "3                0             0            0  \n",
       "4                0             0            0  "
      ]
     },
     "execution_count": 35,
     "metadata": {},
     "output_type": "execute_result"
    }
   ],
   "source": [
    "train.head()"
   ]
  },
  {
   "cell_type": "code",
   "execution_count": 45,
   "metadata": {},
   "outputs": [
    {
     "data": {
      "text/html": [
       "<div>\n",
       "<style scoped>\n",
       "    .dataframe tbody tr th:only-of-type {\n",
       "        vertical-align: middle;\n",
       "    }\n",
       "\n",
       "    .dataframe tbody tr th {\n",
       "        vertical-align: top;\n",
       "    }\n",
       "\n",
       "    .dataframe thead th {\n",
       "        text-align: right;\n",
       "    }\n",
       "</style>\n",
       "<table border=\"1\" class=\"dataframe\">\n",
       "  <thead>\n",
       "    <tr style=\"text-align: right;\">\n",
       "      <th></th>\n",
       "      <th>sentenceid</th>\n",
       "      <th>author</th>\n",
       "      <th>nchar</th>\n",
       "      <th>created_utc</th>\n",
       "      <th>score</th>\n",
       "      <th>subreddit</th>\n",
       "      <th>label</th>\n",
       "      <th>full_text</th>\n",
       "      <th>wordcount</th>\n",
       "      <th>id</th>\n",
       "    </tr>\n",
       "  </thead>\n",
       "  <tbody>\n",
       "    <tr>\n",
       "      <th>0</th>\n",
       "      <td>66026</td>\n",
       "      <td>blargghonkk</td>\n",
       "      <td>357</td>\n",
       "      <td>1491057453</td>\n",
       "      <td>2</td>\n",
       "      <td>offmychest</td>\n",
       "      <td>husband wife</td>\n",
       "      <td>Wouldn't want the baby to fall apart on the hi...</td>\n",
       "      <td>10</td>\n",
       "      <td>62hoet</td>\n",
       "    </tr>\n",
       "    <tr>\n",
       "      <th>1</th>\n",
       "      <td>96956</td>\n",
       "      <td>Spikekuji</td>\n",
       "      <td>100</td>\n",
       "      <td>1531173984</td>\n",
       "      <td>1</td>\n",
       "      <td>offmychest</td>\n",
       "      <td>wife</td>\n",
       "      <td>You&lt;U+0092&gt;d be in good company there.</td>\n",
       "      <td>6</td>\n",
       "      <td>8xa92s</td>\n",
       "    </tr>\n",
       "    <tr>\n",
       "      <th>2</th>\n",
       "      <td>238262</td>\n",
       "      <td>maximize123</td>\n",
       "      <td>279</td>\n",
       "      <td>1501968080</td>\n",
       "      <td>1</td>\n",
       "      <td>CasualConversation</td>\n",
       "      <td>husband</td>\n",
       "      <td>What a cliche, but as a 20 year old in college...</td>\n",
       "      <td>22</td>\n",
       "      <td>6ru5kk</td>\n",
       "    </tr>\n",
       "    <tr>\n",
       "      <th>3</th>\n",
       "      <td>381299</td>\n",
       "      <td>kilawl</td>\n",
       "      <td>2353</td>\n",
       "      <td>1507209034</td>\n",
       "      <td>1</td>\n",
       "      <td>CasualConversation</td>\n",
       "      <td>boyfriend</td>\n",
       "      <td>Well, when I thought I lost my best friend for...</td>\n",
       "      <td>14</td>\n",
       "      <td>74alb3</td>\n",
       "    </tr>\n",
       "    <tr>\n",
       "      <th>4</th>\n",
       "      <td>30238</td>\n",
       "      <td>Munkyed</td>\n",
       "      <td>914</td>\n",
       "      <td>1533323463</td>\n",
       "      <td>3</td>\n",
       "      <td>offmychest</td>\n",
       "      <td>husband wife</td>\n",
       "      <td>I love my brother and all twelve of his kids.</td>\n",
       "      <td>10</td>\n",
       "      <td>944icl</td>\n",
       "    </tr>\n",
       "  </tbody>\n",
       "</table>\n",
       "</div>"
      ],
      "text/plain": [
       "   sentenceid       author  nchar  created_utc  score           subreddit  \\\n",
       "0       66026  blargghonkk    357   1491057453      2          offmychest   \n",
       "1       96956    Spikekuji    100   1531173984      1          offmychest   \n",
       "2      238262  maximize123    279   1501968080      1  CasualConversation   \n",
       "3      381299       kilawl   2353   1507209034      1  CasualConversation   \n",
       "4       30238      Munkyed    914   1533323463      3          offmychest   \n",
       "\n",
       "          label                                          full_text  wordcount  \\\n",
       "0  husband wife  Wouldn't want the baby to fall apart on the hi...         10   \n",
       "1          wife             You<U+0092>d be in good company there.          6   \n",
       "2       husband  What a cliche, but as a 20 year old in college...         22   \n",
       "3     boyfriend  Well, when I thought I lost my best friend for...         14   \n",
       "4  husband wife      I love my brother and all twelve of his kids.         10   \n",
       "\n",
       "       id  \n",
       "0  62hoet  \n",
       "1  8xa92s  \n",
       "2  6ru5kk  \n",
       "3  74alb3  \n",
       "4  944icl  "
      ]
     },
     "execution_count": 45,
     "metadata": {},
     "output_type": "execute_result"
    }
   ],
   "source": [
    "test.head()"
   ]
  },
  {
   "cell_type": "code",
   "execution_count": 46,
   "metadata": {},
   "outputs": [],
   "source": [
    "from bert_serving.client import BertClient"
   ]
  },
  {
   "cell_type": "code",
   "execution_count": null,
   "metadata": {},
   "outputs": [],
   "source": [
    "bc = BertClient()"
   ]
  },
  {
   "cell_type": "code",
   "execution_count": 3,
   "metadata": {},
   "outputs": [],
   "source": [
    "sent_train = []\n",
    "for ix in train['full_text']:\n",
    "    sent_train.append(ix)"
   ]
  },
  {
   "cell_type": "code",
   "execution_count": 38,
   "metadata": {},
   "outputs": [
    {
     "name": "stdout",
     "output_type": "stream",
     "text": [
      "I<U+0092>m sobbing reading this thread!\n"
     ]
    }
   ],
   "source": [
    "print(sent_train[1])"
   ]
  },
  {
   "cell_type": "code",
   "execution_count": 45,
   "metadata": {},
   "outputs": [
    {
     "name": "stdout",
     "output_type": "stream",
     "text": [
      "12860\n"
     ]
    }
   ],
   "source": [
    "print(len(sent_train))\n",
    "#sent_train=np.array(sent_train)\n",
    "#print(sent_train.shape)"
   ]
  },
  {
   "cell_type": "code",
   "execution_count": 48,
   "metadata": {},
   "outputs": [],
   "source": [
    "enc_train = bc.encode(sent_train)"
   ]
  },
  {
   "cell_type": "code",
   "execution_count": 49,
   "metadata": {},
   "outputs": [
    {
     "name": "stdout",
     "output_type": "stream",
     "text": [
      "(12860, 768)\n"
     ]
    }
   ],
   "source": [
    "print(enc_train.shape)"
   ]
  },
  {
   "cell_type": "code",
   "execution_count": 15,
   "metadata": {},
   "outputs": [],
   "source": [
    "np.save('./enc_train.npy',enc_train)"
   ]
  },
  {
   "cell_type": "code",
   "execution_count": 16,
   "metadata": {},
   "outputs": [],
   "source": [
    "sent_test = []\n",
    "for ix in test['full_text']:\n",
    "    sent_test.append(ix)"
   ]
  },
  {
   "cell_type": "code",
   "execution_count": 17,
   "metadata": {},
   "outputs": [
    {
     "name": "stdout",
     "output_type": "stream",
     "text": [
      "5000\n"
     ]
    }
   ],
   "source": [
    "print(len(sent_test))"
   ]
  },
  {
   "cell_type": "code",
   "execution_count": 18,
   "metadata": {},
   "outputs": [],
   "source": [
    "enc_test = bc.encode(sent_test)"
   ]
  },
  {
   "cell_type": "code",
   "execution_count": 19,
   "metadata": {},
   "outputs": [
    {
     "name": "stdout",
     "output_type": "stream",
     "text": [
      "(5000, 768)\n"
     ]
    }
   ],
   "source": [
    "print(enc_test.shape)"
   ]
  },
  {
   "cell_type": "code",
   "execution_count": 20,
   "metadata": {},
   "outputs": [],
   "source": [
    "np.save('./enc_test.npy',enc_test)"
   ]
  },
  {
   "cell_type": "code",
   "execution_count": 4,
   "metadata": {},
   "outputs": [],
   "source": [
    "enc_train = np.load('./enc_train.npy')"
   ]
  },
  {
   "cell_type": "code",
   "execution_count": 5,
   "metadata": {},
   "outputs": [],
   "source": [
    "Y_train = train.values[:,15]"
   ]
  },
  {
   "cell_type": "code",
   "execution_count": 6,
   "metadata": {},
   "outputs": [],
   "source": [
    "Y_train=np.array(Y_train)"
   ]
  },
  {
   "cell_type": "code",
   "execution_count": 7,
   "metadata": {},
   "outputs": [],
   "source": [
    "Y_train = np_utils.to_categorical(Y_train)"
   ]
  },
  {
   "cell_type": "code",
   "execution_count": 71,
   "metadata": {},
   "outputs": [
    {
     "name": "stdout",
     "output_type": "stream",
     "text": [
      "[[1. 0.]\n",
      " [0. 1.]\n",
      " [1. 0.]\n",
      " ...\n",
      " [0. 1.]\n",
      " [0. 1.]\n",
      " [0. 1.]]\n"
     ]
    }
   ],
   "source": [
    "print(Y_train)"
   ]
  },
  {
   "cell_type": "code",
   "execution_count": 7,
   "metadata": {},
   "outputs": [],
   "source": [
    "# Y_test = np_utils.to_categorical(Y_test)"
   ]
  },
  {
   "cell_type": "code",
   "execution_count": 8,
   "metadata": {},
   "outputs": [],
   "source": [
    "from keras.layers import Bidirectional,Flatten\n",
    "import keras"
   ]
  },
  {
   "cell_type": "code",
   "execution_count": 9,
   "metadata": {},
   "outputs": [],
   "source": [
    "from keras_self_attention import SeqSelfAttention"
   ]
  },
  {
   "cell_type": "code",
   "execution_count": 10,
   "metadata": {},
   "outputs": [],
   "source": [
    "from keras.layers import Bidirectional,Flatten"
   ]
  },
  {
   "cell_type": "code",
   "execution_count": 11,
   "metadata": {},
   "outputs": [],
   "source": [
    "from sklearn.model_selection import RepeatedKFold, cross_val_score\n",
    "from keras.wrappers.scikit_learn import KerasRegressor\n",
    "from sklearn.model_selection import StratifiedKFold,KFold\n"
   ]
  },
  {
   "cell_type": "code",
   "execution_count": 12,
   "metadata": {},
   "outputs": [],
   "source": [
    "indices=np.arange(12860)\n",
    "\n",
    "from sklearn.model_selection import train_test_split\n",
    "X_train, X_test, y_train, y_test ,indices_train,indices_test= train_test_split(enc_train, Y_train,indices, test_size=0.1,stratify=Y_train)"
   ]
  },
  {
   "cell_type": "code",
   "execution_count": 13,
   "metadata": {},
   "outputs": [
    {
     "name": "stderr",
     "output_type": "stream",
     "text": [
      "WARNING: Logging before flag parsing goes to stderr.\n",
      "W1205 09:34:34.853469 140535258793792 deprecation_wrapper.py:119] From /media/data_dump_2/Mehak/biocv/lib/python3.6/site-packages/keras/backend/tensorflow_backend.py:74: The name tf.get_default_graph is deprecated. Please use tf.compat.v1.get_default_graph instead.\n",
      "\n",
      "W1205 09:34:34.868797 140535258793792 deprecation_wrapper.py:119] From /media/data_dump_2/Mehak/biocv/lib/python3.6/site-packages/keras/backend/tensorflow_backend.py:517: The name tf.placeholder is deprecated. Please use tf.compat.v1.placeholder instead.\n",
      "\n",
      "W1205 09:34:34.870572 140535258793792 deprecation_wrapper.py:119] From /media/data_dump_2/Mehak/biocv/lib/python3.6/site-packages/keras/backend/tensorflow_backend.py:4138: The name tf.random_uniform is deprecated. Please use tf.random.uniform instead.\n",
      "\n",
      "W1205 09:34:35.877701 140535258793792 deprecation_wrapper.py:119] From /media/data_dump_2/Mehak/biocv/lib/python3.6/site-packages/keras/backend/tensorflow_backend.py:4185: The name tf.truncated_normal is deprecated. Please use tf.random.truncated_normal instead.\n",
      "\n",
      "W1205 09:34:35.915655 140535258793792 deprecation_wrapper.py:119] From /media/data_dump_2/Mehak/biocv/lib/python3.6/site-packages/keras/backend/tensorflow_backend.py:133: The name tf.placeholder_with_default is deprecated. Please use tf.compat.v1.placeholder_with_default instead.\n",
      "\n",
      "W1205 09:34:35.920078 140535258793792 deprecation.py:506] From /media/data_dump_2/Mehak/biocv/lib/python3.6/site-packages/keras/backend/tensorflow_backend.py:3445: calling dropout (from tensorflow.python.ops.nn_ops) with keep_prob is deprecated and will be removed in a future version.\n",
      "Instructions for updating:\n",
      "Please use `rate` instead of `keep_prob`. Rate should be set to `rate = 1 - keep_prob`.\n",
      "W1205 09:34:35.962547 140535258793792 deprecation_wrapper.py:119] From /media/data_dump_2/Mehak/biocv/lib/python3.6/site-packages/keras/optimizers.py:790: The name tf.train.Optimizer is deprecated. Please use tf.compat.v1.train.Optimizer instead.\n",
      "\n"
     ]
    },
    {
     "name": "stdout",
     "output_type": "stream",
     "text": [
      "_________________________________________________________________\n",
      "Layer (type)                 Output Shape              Param #   \n",
      "=================================================================\n",
      "conv1d_1 (Conv1D)            (None, 48, 64)            147520    \n",
      "_________________________________________________________________\n",
      "conv1d_2 (Conv1D)            (None, 46, 128)           24704     \n",
      "_________________________________________________________________\n",
      "bidirectional_1 (Bidirection (None, 46, 256)           263168    \n",
      "_________________________________________________________________\n",
      "bidirectional_2 (Bidirection (None, 46, 512)           1050624   \n",
      "_________________________________________________________________\n",
      "Attention (SeqSelfAttention) (None, 46, 512)           262144    \n",
      "_________________________________________________________________\n",
      "flatten_1 (Flatten)          (None, 23552)             0         \n",
      "_________________________________________________________________\n",
      "dense_1 (Dense)              (None, 1000)              23553000  \n",
      "_________________________________________________________________\n",
      "dropout_1 (Dropout)          (None, 1000)              0         \n",
      "_________________________________________________________________\n",
      "dense_2 (Dense)              (None, 64)                64064     \n",
      "_________________________________________________________________\n",
      "dropout_2 (Dropout)          (None, 64)                0         \n",
      "_________________________________________________________________\n",
      "dense_3 (Dense)              (None, 2)                 130       \n",
      "_________________________________________________________________\n",
      "activation_1 (Activation)    (None, 2)                 0         \n",
      "=================================================================\n",
      "Total params: 25,365,354\n",
      "Trainable params: 25,365,354\n",
      "Non-trainable params: 0\n",
      "_________________________________________________________________\n"
     ]
    }
   ],
   "source": [
    "model = Sequential()\n",
    "model.add(Convolution1D(64,(3),activation='relu', input_shape=(50,768)))\n",
    "model.add(Convolution1D(128,(3),activation='relu'))\n",
    "#model.add(Convolution1D(128,(1),activatio\\n='relu'))\n",
    "model.add(Bidirectional(LSTM(128, return_sequences=True)))\n",
    "model.add(Bidirectional(LSTM(256, return_sequences=True)))\n",
    "#model.add(LSTM(128, return_sequences=False))\n",
    "#model.add(Dropout(0.5))\n",
    "model.add(SeqSelfAttention(\n",
    "    attention_width=15,\n",
    "    attention_type=SeqSelfAttention.ATTENTION_TYPE_MUL,\n",
    "    attention_activation=None,\n",
    "    kernel_regularizer=keras.regularizers.l2(1e-6),\n",
    "    use_attention_bias=False,\n",
    "    name='Attention',\n",
    "))\n",
    "model.add(Flatten())\n",
    "model.add(Dense(1000))\n",
    "model.add(Dropout(0.5))\n",
    "model.add(Dense(64))\n",
    "model.add(Dropout(0.5))\n",
    "model.add(Dense(2))\n",
    "model.add(Activation('softmax'))\n",
    "model.summary()\n",
    "model.compile(loss='categorical_crossentropy',optimizer=SGD(lr=0.0001, decay=1e-6, momentum=0.9, nesterov=True),metrics=['accuracy'])\n",
    " \n"
   ]
  },
  {
   "cell_type": "code",
   "execution_count": 14,
   "metadata": {},
   "outputs": [
    {
     "name": "stdout",
     "output_type": "stream",
     "text": [
      "KFold(n_splits=5, random_state=None, shuffle=False)\n"
     ]
    }
   ],
   "source": [
    "\n",
    "kfold=KFold(n_splits=5)\n",
    "print(kfold)"
   ]
  },
  {
   "cell_type": "code",
   "execution_count": 15,
   "metadata": {},
   "outputs": [],
   "source": [
    "early_stopping = EarlyStopping(min_delta = 0.001, mode = 'max', monitor='val_acc', patience = 5)\n",
    "callback = [early_stopping]"
   ]
  },
  {
   "cell_type": "code",
   "execution_count": 16,
   "metadata": {},
   "outputs": [],
   "source": [
    "checkpoint=ModelCheckpoint('model_bert_final_cv_cat_6_final.h5',monitor='val_loss',verbose=0,save_best_only=True,mode='auto')"
   ]
  },
  {
   "cell_type": "code",
   "execution_count": 17,
   "metadata": {},
   "outputs": [
    {
     "name": "stderr",
     "output_type": "stream",
     "text": [
      "W1205 09:34:43.535734 140535258793792 deprecation.py:323] From /media/data_dump_2/Mehak/biocv/lib/python3.6/site-packages/tensorflow/python/ops/math_grad.py:1250: add_dispatch_support.<locals>.wrapper (from tensorflow.python.ops.array_ops) is deprecated and will be removed in a future version.\n",
      "Instructions for updating:\n",
      "Use tf.where in 2.0, which has the same broadcast rule as np.where\n"
     ]
    },
    {
     "name": "stdout",
     "output_type": "stream",
     "text": [
      "Train on 9259 samples, validate on 2315 samples\n",
      "Epoch 1/20\n",
      "9259/9259 [==============================] - 132s 14ms/step - loss: 0.3037 - acc: 0.9210 - val_loss: 0.2816 - val_acc: 0.9192\n",
      "Epoch 2/20\n",
      "9259/9259 [==============================] - 127s 14ms/step - loss: 0.2562 - acc: 0.9225 - val_loss: 0.2491 - val_acc: 0.9192\n",
      "Epoch 4/20\n",
      "9259/9259 [==============================] - 127s 14ms/step - loss: 0.2369 - acc: 0.9225 - val_loss: 0.2309 - val_acc: 0.9218\n",
      "Epoch 5/20\n",
      "9259/9259 [==============================] - 129s 14ms/step - loss: 0.2225 - acc: 0.9225 - val_loss: 0.2212 - val_acc: 0.9240\n",
      "Epoch 6/20\n",
      "9259/9259 [==============================] - 127s 14ms/step - loss: 0.2088 - acc: 0.9256 - val_loss: 0.2154 - val_acc: 0.9253\n",
      "Epoch 7/20\n",
      "9259/9259 [==============================] - 128s 14ms/step - loss: 0.2011 - acc: 0.9285 - val_loss: 0.2127 - val_acc: 0.9253\n",
      "Epoch 8/20\n",
      "4640/9259 [==============>...............] - ETA: 58s - loss: 0.2020 - acc: 0.9310"
     ]
    },
    {
     "name": "stderr",
     "output_type": "stream",
     "text": [
      "IOPub message rate exceeded.\n",
      "The notebook server will temporarily stop sending output\n",
      "to the client in order to avoid crashing it.\n",
      "To change this limit, set the config variable\n",
      "`--NotebookApp.iopub_msg_rate_limit`.\n",
      "\n",
      "Current values:\n",
      "NotebookApp.iopub_msg_rate_limit=1000.0 (msgs/sec)\n",
      "NotebookApp.rate_limit_window=3.0 (secs)\n",
      "\n"
     ]
    },
    {
     "name": "stdout",
     "output_type": "stream",
     "text": [
      "9259/9259 [==============================] - 129s 14ms/step - loss: 0.1716 - acc: 0.9382 - val_loss: 0.1749 - val_acc: 0.9387\n",
      "Train on 9259 samples, validate on 2315 samples\n",
      "Epoch 1/20\n",
      "9259/9259 [==============================] - 131s 14ms/step - loss: 0.1791 - acc: 0.9335 - val_loss: 0.1454 - val_acc: 0.9499\n",
      "Epoch 2/20\n",
      "9259/9259 [==============================] - 131s 14ms/step - loss: 0.1755 - acc: 0.9357 - val_loss: 0.1463 - val_acc: 0.9421\n",
      "Epoch 3/20\n",
      "9259/9259 [==============================] - 130s 14ms/step - loss: 0.1749 - acc: 0.9356 - val_loss: 0.1412 - val_acc: 0.9477\n",
      "Epoch 4/20\n",
      "9259/9259 [==============================] - 132s 14ms/step - loss: 0.1737 - acc: 0.9362 - val_loss: 0.1436 - val_acc: 0.9425\n",
      "Epoch 5/20\n",
      "9259/9259 [==============================] - 130s 14ms/step - loss: 0.1698 - acc: 0.9388 - val_loss: 0.1410 - val_acc: 0.9477\n",
      "Epoch 6/20\n",
      " 896/9259 [=>............................] - ETA: 1:46 - loss: 0.1742 - acc: 0.9286"
     ]
    },
    {
     "name": "stderr",
     "output_type": "stream",
     "text": [
      "IOPub message rate exceeded.\n",
      "The notebook server will temporarily stop sending output\n",
      "to the client in order to avoid crashing it.\n",
      "To change this limit, set the config variable\n",
      "`--NotebookApp.iopub_msg_rate_limit`.\n",
      "\n",
      "Current values:\n",
      "NotebookApp.iopub_msg_rate_limit=1000.0 (msgs/sec)\n",
      "NotebookApp.rate_limit_window=3.0 (secs)\n",
      "\n"
     ]
    }
   ],
   "source": [
    "\n",
    "score=[]\n",
    "for train, test in kfold.split(X_train, y_train):\n",
    "    model.fit(X_train[train],y_train[train],validation_data=(X_train[test],y_train[test]),\n",
    "                epochs = 20, batch_size=16,callbacks=[checkpoint,early_stopping])\n",
    "    score.append(model.evaluate(X_test,y_test,verbose=0))"
   ]
  },
  {
   "cell_type": "code",
   "execution_count": 18,
   "metadata": {},
   "outputs": [],
   "source": [
    "#model2 = build_model()\n",
    "#model2.compile(loss='categorical_crossentropy',optimizer=Adam(lr=0.0001),metrics=['accuracy'])\n",
    "\n",
    "\n",
    "# load 3rd epoch weights\n",
    "model.load_weights('./model_bert_final_cv_cat_6_final.h5')\n",
    "y_pred=model.predict(X_test)\n",
    "scores2 = model.evaluate(X_test,y_test,verbose=0)"
   ]
  },
  {
   "cell_type": "code",
   "execution_count": 19,
   "metadata": {},
   "outputs": [
    {
     "name": "stdout",
     "output_type": "stream",
     "text": [
      "92.30171073094868\n"
     ]
    }
   ],
   "source": [
    "print(scores2[1]*100)"
   ]
  },
  {
   "cell_type": "code",
   "execution_count": 20,
   "metadata": {},
   "outputs": [
    {
     "name": "stdout",
     "output_type": "stream",
     "text": [
      "Accuracy: 0.9230171073094868\n",
      "F1 score: 0.39999999999999997\n",
      "Recall: 0.32673267326732675\n",
      "Precision: 0.515625\n",
      "\n",
      " clasification report:\n",
      "               precision    recall  f1-score   support\n",
      "\n",
      "           0       0.94      0.97      0.96      1185\n",
      "           1       0.52      0.33      0.40       101\n",
      "\n",
      "    accuracy                           0.92      1286\n",
      "   macro avg       0.73      0.65      0.68      1286\n",
      "weighted avg       0.91      0.92      0.91      1286\n",
      "\n",
      "\n",
      " confussion matrix:\n",
      " [[1154   31]\n",
      " [  68   33]]\n"
     ]
    }
   ],
   "source": [
    "Y_pred=[]\n",
    "for i in range(len(y_pred)):\n",
    "    Y_pred.append(np.argmax(y_pred[i]))\n",
    "\n",
    "\n",
    "\n",
    "Y_test=[]\n",
    "for i in range(len(y_test)):\n",
    "    Y_test.append(np.argmax(y_test[i]))\n",
    "    \n",
    "    \n",
    "from sklearn.metrics import precision_score, \\\n",
    "    recall_score, confusion_matrix, classification_report, \\\n",
    "    accuracy_score, f1_score\n",
    "\n",
    "print('Accuracy:', accuracy_score(Y_test, Y_pred))\n",
    "print('F1 score:', f1_score(Y_test, Y_pred))\n",
    "print('Recall:', recall_score(Y_test, Y_pred))\n",
    "print ('Precision:', precision_score(Y_test, Y_pred))\n",
    "print('\\n clasification report:\\n', classification_report(Y_test, Y_pred))\n",
    "print('\\n confussion matrix:\\n',confusion_matrix(Y_test, Y_pred))\n",
    "\n"
   ]
  },
  {
   "cell_type": "code",
   "execution_count": 21,
   "metadata": {},
   "outputs": [],
   "source": [
    "sentences_test=[]\n",
    "for i in range(len(indices_test)):\n",
    "    sentences_test.append(sent_train[indices_test[i]])\n",
    "    "
   ]
  },
  {
   "cell_type": "code",
   "execution_count": 22,
   "metadata": {},
   "outputs": [
    {
     "name": "stdout",
     "output_type": "stream",
     "text": [
      "1286\n"
     ]
    }
   ],
   "source": [
    "print(len(sentences_test))"
   ]
  },
  {
   "cell_type": "code",
   "execution_count": 23,
   "metadata": {},
   "outputs": [],
   "source": [
    "with open(\"fn_cv_cat_6.txt\", \"a\") as f:    \n",
    "    for i in range(len(X_test)):\n",
    "        if np.argmax(y_pred[i])==0 and Y_test[i] == 0:\n",
    "            print('Sentence', sentences_test[i], file=f)\n",
    "            print('GT',Y_test[i],file=f)\n",
    "            print('Pred',np.argmax(y_pred[i]),file=f)\n",
    "        "
   ]
  },
  {
   "cell_type": "code",
   "execution_count": 24,
   "metadata": {},
   "outputs": [],
   "source": [
    "with open(\"tp_cv_cat_6.txt\", \"a\") as f:    \n",
    "    for i in range(len(X_test)):\n",
    "        if np.argmax(y_pred[i])==1 and Y_test[i] == 1:\n",
    "            print('Sentence', sentences_test[i], file=f)\n",
    "            print('GT',Y_test[i],file=f)\n",
    "            print('Pred',np.argmax(y_pred[i]),file=f)"
   ]
  },
  {
   "cell_type": "code",
   "execution_count": 25,
   "metadata": {},
   "outputs": [],
   "source": [
    "with open(\"fp_cv_cat_6.txt\", \"a\") as f:    \n",
    "    for i in range(len(X_test)):\n",
    "        if np.argmax(y_pred[i])==1 and Y_test[i] == 0:\n",
    "            print('Sentence',sentences_test[i], file=f)\n",
    "            print('GT',Y_test[i],file=f)\n",
    "            print('Pred',np.argmax(y_pred[i]),file=f)"
   ]
  },
  {
   "cell_type": "code",
   "execution_count": 26,
   "metadata": {},
   "outputs": [],
   "source": [
    "with open(\"tn_cv_cat_6.txt\", \"a\") as f:    \n",
    "    for i in range(len(X_test)):\n",
    "        if np.argmax(y_pred[i])==0 and Y_test[i] == 1:\n",
    "            print('Sentence', sentences_test[i], file=f)\n",
    "            print('GT',Y_test[i],file=f)\n",
    "            print('Pred',np.argmax(y_pred[i]),file=f)"
   ]
  },
  {
   "cell_type": "code",
   "execution_count": 27,
   "metadata": {},
   "outputs": [],
   "source": [
    "np.save(\"indices_test_cat_6\",indices_test)\n",
    "\n",
    "np.save(\"indices_train_cat_6\",indices_train)\n",
    "\n",
    "np.save(\"test_Set_cat_6\",X_test)"
   ]
  }
 ],
 "metadata": {
  "kernelspec": {
   "display_name": "Python 3",
   "language": "python",
   "name": "python3"
  },
  "language_info": {
   "codemirror_mode": {
    "name": "ipython",
    "version": 3
   },
   "file_extension": ".py",
   "mimetype": "text/x-python",
   "name": "python",
   "nbconvert_exporter": "python",
   "pygments_lexer": "ipython3",
   "version": "3.6.8"
  }
 },
 "nbformat": 4,
 "nbformat_minor": 2
}
